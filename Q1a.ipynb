import pandas as pd
import seaborn as sns
import matplotlib.pyplot as plt
data = pd.read_csv('../datasets/tips.csv')
data.head()
selected_columns = ['time', 'total_bill', 'tip', 'day']
data = data[selected_columns]
sns.set(style="whitegrid")
plt.figure(figsize=(10, 6))
sns.histplot(data['total_bill'], bins=40, kde=False, color='skyblue', edgecolor='black')
plt.title('Histogram of Total Bill')
plt.xlabel('Total Bill')
plt.ylabel('Frequency')
plt.show()
plt.figure(figsize=(8, 6))
sns.countplot(x='day', data=data, palette='bright', hue='day', legend=False)
plt.title('Bar Chart of Day')
plt.xlabel('Day')
plt.ylabel('Count')
